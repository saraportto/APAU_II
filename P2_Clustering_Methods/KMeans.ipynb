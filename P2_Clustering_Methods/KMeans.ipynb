{
 "cells": [
  {
   "cell_type": "markdown",
   "metadata": {
    "_uuid": "054f0cca3061be223d76116cb8544b598eb5a297"
   },
   "source": [
    "# Clustering"
   ]
  },
  {
   "cell_type": "markdown",
   "metadata": {
    "_uuid": "fd0fc89fe26333add074845d0629b52ae828584c"
   },
   "source": [
    "## Dependencias"
   ]
  },
  {
   "cell_type": "code",
   "execution_count": null,
   "metadata": {},
   "outputs": [],
   "source": [
    "!pip install kneed numpy matplotlib scikit-learn seaborn pandas folium"
   ]
  },
  {
   "cell_type": "code",
   "execution_count": null,
   "metadata": {
    "_cell_guid": "b1076dfc-b9ad-4769-8c92-a6c4dae69d19",
    "_kg_hide-input": false,
    "_uuid": "8f2839f25d086af736a60e9eeb907d3b93b6e0e5"
   },
   "outputs": [],
   "source": [
    "import folium\n",
    "import matplotlib.pyplot as plt\n",
    "import numpy as np\n",
    "import pandas as pd\n",
    "import seaborn as sns \n",
    "import warnings\n",
    "from sklearn.cluster import KMeans\n",
    "from sklearn.preprocessing import MinMaxScaler\n",
    "from sklearn.metrics import silhouette_score\n",
    "from kneed import KneeLocator"
   ]
  },
  {
   "cell_type": "code",
   "execution_count": null,
   "metadata": {},
   "outputs": [],
   "source": [
    "warnings.filterwarnings(\"ignore\")"
   ]
  },
  {
   "cell_type": "markdown",
   "metadata": {},
   "source": [
    "## Segmentación de clientes con K-Means\n",
    "\n",
    "Usaremos o algoritmo K-Means para segmentar un datasets con datos de compras."
   ]
  },
  {
   "cell_type": "markdown",
   "metadata": {},
   "source": [
    "### Datos\n",
    "\n",
    "#### Exploración dos datos"
   ]
  },
  {
   "cell_type": "markdown",
   "metadata": {},
   "source": [
    "Descargamos o dataset co que traballaremos."
   ]
  },
  {
   "cell_type": "code",
   "execution_count": null,
   "metadata": {},
   "outputs": [],
   "source": [
    "!wget http://fegalaz.usc.es/~sdocio/apau2/p1/datasets/customers.csv"
   ]
  },
  {
   "cell_type": "code",
   "execution_count": null,
   "metadata": {
    "_cell_guid": "79c7e3d0-c299-4dcb-8224-4455121ee9b0",
    "_uuid": "d629ff2d2480ee46fbb7e2d37f6b5fab8052498a"
   },
   "outputs": [],
   "source": [
    "df = pd.read_csv(r'customers.csv')"
   ]
  },
  {
   "cell_type": "code",
   "execution_count": null,
   "metadata": {},
   "outputs": [],
   "source": [
    "df.head()"
   ]
  },
  {
   "cell_type": "code",
   "execution_count": null,
   "metadata": {
    "_uuid": "067b51b55e3daed31cfed664a1eacde23b932ec1"
   },
   "outputs": [],
   "source": [
    "df.shape"
   ]
  },
  {
   "cell_type": "code",
   "execution_count": null,
   "metadata": {
    "_uuid": "0e352ff53fe883942afd06b2e830ff7fa7cfdabd"
   },
   "outputs": [],
   "source": [
    "df.drop(columns=[\"CustomerID\"]).describe()"
   ]
  },
  {
   "cell_type": "code",
   "execution_count": null,
   "metadata": {
    "_uuid": "57e39b6ed035b3e1b9e3dda9efd273fe552f48a7"
   },
   "outputs": [],
   "source": [
    "df.dtypes"
   ]
  },
  {
   "cell_type": "markdown",
   "metadata": {},
   "source": [
    "Comprobamos se hai valores nulos no dataset."
   ]
  },
  {
   "cell_type": "code",
   "execution_count": null,
   "metadata": {
    "_uuid": "e57f14ca0de9ce6d08a1dd1fb6470707db3eb85a"
   },
   "outputs": [],
   "source": [
    "df.isnull().sum()"
   ]
  },
  {
   "cell_type": "markdown",
   "metadata": {
    "_uuid": "2459a03e13d3bae3d946715b17c151f0615b3dcf"
   },
   "source": [
    "#### Visualización de datos"
   ]
  },
  {
   "cell_type": "code",
   "execution_count": null,
   "metadata": {
    "_kg_hide-input": true,
    "_uuid": "7e72632388acada5fd66e2323f0544af06cac54d"
   },
   "outputs": [],
   "source": [
    "plt.figure(figsize = (12, 3))\n",
    "cols = ['Idade' , 'Ingresos anuais (USD)' , 'Perfil de gasto (1-100)']\n",
    "for i, x in enumerate(['Age', 'Annual Income (k$)', 'Spending Score (1-100)']):\n",
    "    plt.subplot(1, 3, i+1)\n",
    "    plt.subplots_adjust(hspace=0.5, wspace=0.5)\n",
    "    sns.histplot(df[x], bins=20, kde=True)\n",
    "    plt.title('Gráfica de {}'.format(cols[i]))\n",
    "plt.show()"
   ]
  },
  {
   "cell_type": "markdown",
   "metadata": {
    "_uuid": "ab264c94de58ad05158ad3bfd95a9fd35f4106de"
   },
   "source": [
    "### Segmentación usando a idade e o perfil de gasto"
   ]
  },
  {
   "cell_type": "markdown",
   "metadata": {},
   "source": [
    "Normalizamos os datos para axustar a escala."
   ]
  },
  {
   "cell_type": "code",
   "execution_count": null,
   "metadata": {},
   "outputs": [],
   "source": [
    "scaler = MinMaxScaler()\n",
    "X = scaler.fit_transform(df[['Age' , 'Spending Score (1-100)']])"
   ]
  },
  {
   "cell_type": "markdown",
   "metadata": {},
   "source": [
    "**Orixinal**"
   ]
  },
  {
   "cell_type": "code",
   "execution_count": null,
   "metadata": {},
   "outputs": [],
   "source": [
    "df[['Age' , 'Spending Score (1-100)']][:10].values"
   ]
  },
  {
   "cell_type": "markdown",
   "metadata": {},
   "source": [
    "**Normalizado**"
   ]
  },
  {
   "cell_type": "code",
   "execution_count": null,
   "metadata": {},
   "outputs": [],
   "source": [
    "X[:10]"
   ]
  },
  {
   "cell_type": "code",
   "execution_count": null,
   "metadata": {},
   "outputs": [],
   "source": [
    "X.shape"
   ]
  },
  {
   "cell_type": "markdown",
   "metadata": {},
   "source": [
    "#### Método do cóbado"
   ]
  },
  {
   "cell_type": "code",
   "execution_count": null,
   "metadata": {
    "_uuid": "4f97c1afeb25bf42b8535f92cfece17b83ab3f26"
   },
   "outputs": [],
   "source": [
    "sse = []\n",
    "\n",
    "for k in range(2, 20):\n",
    "  km2 = KMeans(n_clusters=k, random_state=1234)\n",
    "  km2.fit(X)\n",
    "  sse.append(km2.inertia_)"
   ]
  },
  {
   "cell_type": "code",
   "execution_count": null,
   "metadata": {
    "_kg_hide-input": true,
    "_uuid": "b13b40170b4cfb2c2261e1a229e7af366988f120"
   },
   "outputs": [],
   "source": [
    "plt.figure(figsize=(8, 6))\n",
    "plt.plot(range(2, 20), sse, marker='o')\n",
    "plt.title('Método do cóbado')\n",
    "plt.xlabel('Número de clusters (k)')\n",
    "plt.ylabel('Inertia ou SSE')\n",
    "plt.xticks(range(2, 20, 2))\n",
    "plt.show()"
   ]
  },
  {
   "cell_type": "code",
   "execution_count": null,
   "metadata": {},
   "outputs": [],
   "source": [
    "kl = KneeLocator(range(2, 20), sse, curve=\"convex\", direction=\"decreasing\")\n",
    "kl.elbow"
   ]
  },
  {
   "cell_type": "markdown",
   "metadata": {},
   "source": [
    "#### Silhouette Score"
   ]
  },
  {
   "cell_type": "code",
   "execution_count": null,
   "metadata": {},
   "outputs": [],
   "source": [
    "silhouette_coefficients = []\n",
    "\n",
    "for k in range(2, 20):\n",
    "     km3 = KMeans(n_clusters=k)\n",
    "     km3.fit(X)\n",
    "     score = silhouette_score(X, km3.labels_)\n",
    "     silhouette_coefficients.append(score)"
   ]
  },
  {
   "cell_type": "code",
   "execution_count": null,
   "metadata": {},
   "outputs": [],
   "source": [
    "plt.figure(figsize=(8, 6))\n",
    "plt.plot(range(2, 20), silhouette_coefficients, marker='o')\n",
    "plt.title('Silhouette Score')\n",
    "plt.xlabel('Número de clusters (k)')\n",
    "plt.ylabel('Silhouette')\n",
    "plt.xticks(range(2, 20, 2))\n",
    "plt.show()"
   ]
  },
  {
   "cell_type": "markdown",
   "metadata": {},
   "source": [
    "#### Clustering"
   ]
  },
  {
   "cell_type": "code",
   "execution_count": null,
   "metadata": {
    "_uuid": "e4f5806a8c9a5581292b4f16df6977d053f833b7"
   },
   "outputs": [],
   "source": [
    "km = KMeans(n_clusters=kl.elbow, random_state=1234)\n",
    "km.fit(X)\n",
    "labels = km.labels_"
   ]
  },
  {
   "cell_type": "code",
   "execution_count": null,
   "metadata": {
    "_kg_hide-input": true,
    "_uuid": "b1c20956ada339bc4deff7eb11c8cdd5dcf919b6"
   },
   "outputs": [],
   "source": [
    "plt.figure(figsize=(15, 7))\n",
    "plt.scatter(x='Age', y='Spending Score (1-100)', data=df, c=labels, s=100)\n",
    "plt.ylabel('Perfil de gasto (1-100)') , plt.xlabel('Idade')\n",
    "plt.show()"
   ]
  },
  {
   "cell_type": "markdown",
   "metadata": {
    "_uuid": "74f9b70c7d0a5cd5e5efd75a884afed8f5ba6b55"
   },
   "source": [
    "### Segmentación usando perfil de gasto e ingresos anuais"
   ]
  },
  {
   "cell_type": "code",
   "execution_count": null,
   "metadata": {},
   "outputs": [],
   "source": [
    "scaler = MinMaxScaler()\n",
    "Z = scaler.fit_transform(df[['Annual Income (k$)' , 'Spending Score (1-100)']])"
   ]
  },
  {
   "cell_type": "code",
   "execution_count": null,
   "metadata": {
    "_uuid": "50d645b4b8de36eecfa983b319ade64277a44ef4"
   },
   "outputs": [],
   "source": [
    "sse = []\n",
    "\n",
    "for n in range(2, 20):\n",
    "    km3 = KMeans(n_clusters=n, init='k-means++', random_state=1234)\n",
    "    km3.fit(Z)\n",
    "    sse.append(km3.inertia_)"
   ]
  },
  {
   "cell_type": "code",
   "execution_count": null,
   "metadata": {
    "_kg_hide-input": true,
    "_uuid": "706408f25f2bd360f416873bcf3c413f965dd6bf",
    "scrolled": true
   },
   "outputs": [],
   "source": [
    "plt.figure(figsize=(8, 4))\n",
    "plt.plot(range(2, 20), sse, marker='o')\n",
    "plt.title('Método do cóbado')\n",
    "plt.xlabel('Número de clusters (k)')\n",
    "plt.ylabel('Inertia ou SSE')\n",
    "plt.xticks(range(2, 20, 2))\n",
    "plt.show()"
   ]
  },
  {
   "cell_type": "code",
   "execution_count": null,
   "metadata": {},
   "outputs": [],
   "source": [
    "kl = KneeLocator(range(2, 20), sse, curve=\"convex\", direction=\"decreasing\")\n",
    "kl.elbow"
   ]
  },
  {
   "cell_type": "code",
   "execution_count": null,
   "metadata": {
    "_uuid": "6f29f2ac514b0dd53cd6e2056ec40633377fce53"
   },
   "outputs": [],
   "source": [
    "km4 = KMeans(n_clusters=kl.elbow, init='k-means++', random_state=1234)\n",
    "km4.fit(Z)\n",
    "labels2 = km4.labels_"
   ]
  },
  {
   "cell_type": "code",
   "execution_count": null,
   "metadata": {
    "_kg_hide-input": true,
    "_uuid": "331b3edad2d7a98eca26b2ddd5247f6c81b63584"
   },
   "outputs": [],
   "source": [
    "plt.figure(figsize=(12, 6) )\n",
    "plt.clf()\n",
    "plt.scatter(x='Annual Income (k$)', y='Spending Score (1-100)', data=df, c=labels2, s=200)\n",
    "plt.ylabel('Perfil de gasto (1-100)') , plt.xlabel('Ingresos anuais (k$)')\n",
    "plt.show()"
   ]
  },
  {
   "cell_type": "markdown",
   "metadata": {},
   "source": [
    "## Clustering de datos xeolocalizados"
   ]
  },
  {
   "cell_type": "markdown",
   "metadata": {},
   "source": [
    "Temos un dataset de clientes dun servizo de transporte similar a Uber na cidade de Fargo, que inclúe información sobre lugar de residencia e traballo. Queremos segmentar a poboación de estudantes polo seu lugar de residencia."
   ]
  },
  {
   "cell_type": "markdown",
   "metadata": {},
   "source": [
    "### Datos\n",
    "\n",
    "#### Exploración dos datos"
   ]
  },
  {
   "cell_type": "code",
   "execution_count": null,
   "metadata": {},
   "outputs": [],
   "source": [
    "!wget http://fegalaz.usc.es/~sdocio/apau2/p1/datasets/riders_data.csv"
   ]
  },
  {
   "cell_type": "code",
   "execution_count": null,
   "metadata": {},
   "outputs": [],
   "source": [
    "df2 = pd.read_csv(r'riders_data.csv')"
   ]
  },
  {
   "cell_type": "code",
   "execution_count": null,
   "metadata": {},
   "outputs": [],
   "source": [
    "df2.head()"
   ]
  },
  {
   "cell_type": "code",
   "execution_count": null,
   "metadata": {},
   "outputs": [],
   "source": [
    "df2.shape"
   ]
  },
  {
   "cell_type": "code",
   "execution_count": null,
   "metadata": {},
   "outputs": [],
   "source": [
    "df2.dtypes"
   ]
  },
  {
   "cell_type": "markdown",
   "metadata": {},
   "source": [
    "Comprobamos se hai valores nulos no dataset."
   ]
  },
  {
   "cell_type": "code",
   "execution_count": null,
   "metadata": {},
   "outputs": [],
   "source": [
    "df2.isnull().sum()"
   ]
  },
  {
   "cell_type": "markdown",
   "metadata": {},
   "source": [
    "Seleccionamos os clientes que son estudantes."
   ]
  },
  {
   "cell_type": "code",
   "execution_count": null,
   "metadata": {},
   "outputs": [],
   "source": [
    "students = df2[df2['student'] == 1]"
   ]
  },
  {
   "cell_type": "code",
   "execution_count": null,
   "metadata": {},
   "outputs": [],
   "source": [
    "students.head()"
   ]
  },
  {
   "cell_type": "code",
   "execution_count": null,
   "metadata": {},
   "outputs": [],
   "source": [
    "students.shape"
   ]
  },
  {
   "cell_type": "markdown",
   "metadata": {},
   "source": [
    "Comprobamos que as entradas correspondentes a estudantes carecen de coordenadas para o lugar de traballo, mais non hai nulos no de residencia, que é co que traballaremos."
   ]
  },
  {
   "cell_type": "code",
   "execution_count": null,
   "metadata": {},
   "outputs": [],
   "source": [
    "students.isnull().sum()"
   ]
  },
  {
   "cell_type": "markdown",
   "metadata": {},
   "source": [
    "Extraemos as *features* que nos interesan."
   ]
  },
  {
   "cell_type": "code",
   "execution_count": null,
   "metadata": {},
   "outputs": [],
   "source": [
    "X = students[['home_lat', 'home_lon']].values"
   ]
  },
  {
   "cell_type": "code",
   "execution_count": null,
   "metadata": {},
   "outputs": [],
   "source": [
    "X[:5]"
   ]
  },
  {
   "cell_type": "markdown",
   "metadata": {},
   "source": [
    "#### Visualización de datos"
   ]
  },
  {
   "cell_type": "markdown",
   "metadata": {},
   "source": [
    "Neste caso o método que escollemos para determinar o número óptimo de *clusters* é o de visualizar os datos. Como traballamos con coordenadas, produciremos un mapa no que engadiremos os puntos de datos."
   ]
  },
  {
   "cell_type": "code",
   "execution_count": null,
   "metadata": {},
   "outputs": [],
   "source": [
    "avg_lat = students['home_lat'].mean()\n",
    "avg_lon = students['home_lon'].mean()\n",
    "cluster_map = folium.Map(location=[avg_lat, avg_lon], zoom_start=12)"
   ]
  },
  {
   "cell_type": "code",
   "execution_count": null,
   "metadata": {},
   "outputs": [],
   "source": [
    "for idx, row in students.iterrows():\n",
    "    folium.CircleMarker(\n",
    "        location=[row['home_lat'], row['home_lon']],\n",
    "        radius=5,\n",
    "        color='blue',\n",
    "        fill=True,\n",
    "        tooltip=f\"Student: {row['first_name']} {row['last_name']}\"\n",
    "    ).add_to(cluster_map)"
   ]
  },
  {
   "cell_type": "code",
   "execution_count": null,
   "metadata": {},
   "outputs": [],
   "source": [
    "cluster_map"
   ]
  },
  {
   "cell_type": "markdown",
   "metadata": {},
   "source": [
    "### Clustering por lugar de residencia\n",
    "\n",
    "Para facer o *clustering* usaremos GaussianMixture (GMM), un algoritmo de *clustering* probabilístico que modela os datos como unha combinación de varias distribucións normais (gaussianas). A diferenza de K-Means, GMM permite que un punto pertenza a varios clusters con diferentes probabilidades."
   ]
  },
  {
   "cell_type": "code",
   "execution_count": null,
   "metadata": {},
   "outputs": [],
   "source": [
    "from sklearn.mixture import GaussianMixture\n",
    "\n",
    "gmm = GaussianMixture(n_components=3, random_state=42)\n",
    "gmm.fit(X)"
   ]
  },
  {
   "cell_type": "code",
   "execution_count": null,
   "metadata": {},
   "outputs": [],
   "source": [
    "np.set_printoptions(suppress=True)\n",
    "results = gmm.predict_proba(X)\n",
    "results[:5]"
   ]
  },
  {
   "cell_type": "markdown",
   "metadata": {},
   "source": [
    "Engadimos as predicións ao Dataframe."
   ]
  },
  {
   "cell_type": "code",
   "execution_count": null,
   "metadata": {},
   "outputs": [],
   "source": [
    "students['cluster'] = gmm.predict(X)\n",
    "students['probability'] = gmm.predict_proba(X).max(axis=1)"
   ]
  },
  {
   "cell_type": "code",
   "execution_count": null,
   "metadata": {},
   "outputs": [],
   "source": [
    "students[:3]"
   ]
  },
  {
   "cell_type": "markdown",
   "metadata": {},
   "source": [
    "Agora que temos os puntos do dataset asignado a un *cluster* en función da probabilidade obtida, podemos volver producir o mesmo mapa, agora mudando a cor de cada punto de datos en función do *cluster* ao que foi asignado.\n",
    "\n",
    "Comezamos colocando os centroides."
   ]
  },
  {
   "cell_type": "code",
   "execution_count": null,
   "metadata": {},
   "outputs": [],
   "source": [
    "for center in gmm.means_:\n",
    "    folium.Marker(\n",
    "        location=center,\n",
    "        icon=folium.Icon(color='lightblue', icon='cloud'),\n",
    "        tooltip=f'Cluster Center: {center}'\n",
    "    ).add_to(cluster_map)"
   ]
  },
  {
   "cell_type": "code",
   "execution_count": null,
   "metadata": {},
   "outputs": [],
   "source": [
    "color_map = {0: 'green', 1: 'blue', 2: 'red', 3: 'yellow', 4: 'darkred', 5: 'lightred', 6: 'beige', 7: 'darkblue'}\n",
    "for idx, row in students.iterrows():\n",
    "    folium.CircleMarker(\n",
    "        location=[row['home_lat'], row['home_lon']],\n",
    "        radius=5,\n",
    "        color=color_map[row['cluster']],\n",
    "        fill=True,\n",
    "        tooltip=f\"\"\"\n",
    "        Student: {row['first_name']} {row['last_name']}\n",
    "        Cluster: {row['cluster']}\n",
    "        Probability: {row['probability']:.2f}\n",
    "        \"\"\"\n",
    "    ).add_to(cluster_map)"
   ]
  },
  {
   "cell_type": "code",
   "execution_count": null,
   "metadata": {},
   "outputs": [],
   "source": [
    "cluster_map"
   ]
  }
 ],
 "metadata": {
  "kaggle": {
   "accelerator": "none",
   "dataSources": [
    {
     "datasetId": 42674,
     "sourceId": 74935,
     "sourceType": "datasetVersion"
    }
   ],
   "dockerImageVersionId": 21695,
   "isGpuEnabled": false,
   "isInternetEnabled": false,
   "language": "python",
   "sourceType": "notebook"
  },
  "kernelspec": {
   "display_name": "Python 3 (ipykernel)",
   "language": "python",
   "name": "python3"
  },
  "language_info": {
   "codemirror_mode": {
    "name": "ipython",
    "version": 3
   },
   "file_extension": ".py",
   "mimetype": "text/x-python",
   "name": "python",
   "nbconvert_exporter": "python",
   "pygments_lexer": "ipython3",
   "version": "3.12.8"
  }
 },
 "nbformat": 4,
 "nbformat_minor": 4
}
